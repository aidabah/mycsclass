{
 "cells": [
  {
   "cell_type": "markdown",
   "id": "2ed4e5ca-bcbc-41c7-92ed-51675e30ca0d",
   "metadata": {},
   "source": [
    "## Constructor"
   ]
  },
  {
   "cell_type": "markdown",
   "id": "7a037f24-4827-449f-8408-e069179edc25",
   "metadata": {},
   "source": [
    "__init__ (__ is dunder)\n",
    "SELF is a default variable that contains the memory address of the current code youre working in."
   ]
  },
  {
   "cell_type": "markdown",
   "id": "e51a0a86-cbc2-4223-9b72-dd067850c7dd",
   "metadata": {},
   "source": [
    "## Classes:\n",
    "Methods: function associated with class\n",
    "\n"
   ]
  },
  {
   "cell_type": "code",
   "execution_count": 26,
   "id": "e9b1acde-94f5-466e-bd2a-fc8b0f3e57ff",
   "metadata": {},
   "outputs": [
    {
     "name": "stdout",
     "output_type": "stream",
     "text": [
      "Corey.Schafer@company.com\n",
      "Test.User@company.com\n",
      "Test User\n"
     ]
    },
    {
     "data": {
      "text/plain": [
       "'Corey Schafer'"
      ]
     },
     "execution_count": 26,
     "metadata": {},
     "output_type": "execute_result"
    }
   ],
   "source": [
    "class Employee:\n",
    "# the constructor allows us to generate data when emplyee is created r\n",
    "# rather than relying on manual data\n",
    "# def __init__(name of constructor [usually self],2nd variable, 3rd variable, etc.)\n",
    "    def __init__(self, first, last, pay):\n",
    "        self.first = first\n",
    "        self.last = last\n",
    "        self.pay = pay\n",
    "        self.email = first + '.' + last + '@company.com'\n",
    "\n",
    "    def fullname(self):\n",
    "        return '{} {}'.format(self.first, self.last)\n",
    "        \n",
    "# it will be filled in when the employee(objects) are \n",
    "# instances are always passed automatically\n",
    "       \n",
    "emp_1 = Employee('Corey', 'Schafer', 50000) \n",
    "# must be written in order^\n",
    "emp_2 = Employee(\"Test\", \"User\", 60000)\n",
    "\n",
    "# print(emp_1)\n",
    "# print(emp_2)\n",
    "\n",
    "print(emp_1.email)\n",
    "print(emp_2.email)\n",
    "\n",
    "print(emp_2.fullname())\n",
    "emp_1.fullname()"
   ]
  },
  {
   "cell_type": "code",
   "execution_count": null,
   "id": "72a9751a-db71-44e5-8cce-25c37ebe05eb",
   "metadata": {},
   "outputs": [],
   "source": [
    "# Manual Input^\n",
    "\n",
    "emp_1.first = 'Corey'\n",
    "emp_1.last = 'Schafer'\n",
    "emp_1.email = 'Corey.Schafer@company.com'\n",
    "emp_1.pay = 50000\n",
    "\n",
    "emp_2.first = 'Test'\n",
    "emp_2.last = 'User'\n",
    "emp_2.email = 'Test.User@company.com'\n",
    "emp_2.pay = 60000\n",
    "\n",
    "print(emp_1.email)\n",
    "print(emp_2.email)"
   ]
  },
  {
   "cell_type": "markdown",
   "id": "8e8a9bfd-8770-4236-8a0f-6e42f929eb1e",
   "metadata": {},
   "source": [
    "## Class Variables"
   ]
  },
  {
   "cell_type": "code",
   "execution_count": 49,
   "id": "97251327-1e97-44ef-8119-3c5ae72f98f1",
   "metadata": {},
   "outputs": [
    {
     "name": "stdout",
     "output_type": "stream",
     "text": [
      "0\n",
      "2\n"
     ]
    }
   ],
   "source": [
    "class Employee:\n",
    "# A variable is applied (the same)to all instances of the class i.e: a raise to employees\n",
    "\n",
    "    num_of_emps = 0\n",
    "    raise_amount= 1.04\n",
    "\n",
    "    def __init__(self, first, last, pay):\n",
    "        self.first = first\n",
    "        self.last = last\n",
    "        self.pay = pay\n",
    "        self.email = first + '.' + last + '@company.com'\n",
    "\n",
    "        Employee.num_of_emps += 1\n",
    "\n",
    "    def fullname(self):\n",
    "        return '{} {}'.format(self.first, self.last)\n",
    "\n",
    "    def apply_raise(self):\n",
    "        self.pay = int(self.pay * self.raise_amount)\n",
    "# the variables must be accessed through the class itself or instances^\n",
    "print(Employee.num_of_emps)\n",
    "\n",
    "emp_1 = Employee('Corey', 'Schafer', 50000) \n",
    "emp_2 = Employee(\"Test\", \"User\", 60000)\n",
    "\n",
    "# emp_1.raise_amount = 1.05\n",
    "\n",
    "# print(Employee.raise_amount)\n",
    "# print(emp_1.raise_amount)\n",
    "# print(emp_2.raise_amount)\n",
    "\n",
    "# print(emp_1.__dict__)\n",
    "\n",
    "print(Employee.num_of_emps)"
   ]
  },
  {
   "cell_type": "markdown",
   "id": "67b92cdd-4f05-4206-a0c9-79f24c6b24a0",
   "metadata": {},
   "source": [
    "______________________________________________________incomplete class notes______________________________________________:"
   ]
  },
  {
   "cell_type": "code",
   "execution_count": 15,
   "id": "557a61ae-18ab-4dca-bcb0-8ff4752f309c",
   "metadata": {},
   "outputs": [
    {
     "ename": "TypeError",
     "evalue": "a_sample_class.__init__() missing 2 required positional arguments: 'one' and 'two'",
     "output_type": "error",
     "traceback": [
      "\u001b[0;31m---------------------------------------------------------------------------\u001b[0m",
      "\u001b[0;31mTypeError\u001b[0m                                 Traceback (most recent call last)",
      "Cell \u001b[0;32mIn[15], line 7\u001b[0m\n\u001b[1;32m      4\u001b[0m \u001b[38;5;28;01mdef\u001b[39;00m \u001b[38;5;21mprint_vars\u001b[39m(\u001b[38;5;28mself\u001b[39m):\n\u001b[1;32m      5\u001b[0m     \u001b[38;5;28mprint\u001b[39m(\u001b[38;5;28mself\u001b[39m\u001b[38;5;241m.\u001b[39mvar)\n\u001b[0;32m----> 7\u001b[0m obj \u001b[38;5;241m=\u001b[39m \u001b[43ma_sample_class\u001b[49m\u001b[43m(\u001b[49m\u001b[43m)\u001b[49m\n\u001b[1;32m      8\u001b[0m obj\u001b[38;5;241m.\u001b[39mprint\n",
      "\u001b[0;31mTypeError\u001b[0m: a_sample_class.__init__() missing 2 required positional arguments: 'one' and 'two'"
     ]
    }
   ],
   "source": [
    "    def __init__(self):\n",
    "        self.var =0\n",
    "\n",
    "    def print_vars(self):\n",
    "        print(self.var)\n",
    "\n",
    "obj = a_sample_class()\n",
    "obj.print"
   ]
  },
  {
   "cell_type": "code",
   "execution_count": 14,
   "id": "19667b50-bdb9-441a-ab13-43908c6e1324",
   "metadata": {},
   "outputs": [
    {
     "name": "stdout",
     "output_type": "stream",
     "text": [
      "2\n"
     ]
    }
   ],
   "source": [
    "class a_sample_class:\n",
    "    #parameterized constructor\n",
    "    def __init__(self, one, two):\n",
    "        self.first = one\n",
    "\n",
    "#an instance method for printing\n",
    "    def print_vars(self):\n",
    "        print(self.first)\n",
    "\n",
    "obj = a_sample_class(2,8)\n",
    "obj.print_vars()"
   ]
  },
  {
   "cell_type": "code",
   "execution_count": 17,
   "id": "4f6461ef-d663-4915-8006-1265d03234de",
   "metadata": {},
   "outputs": [
    {
     "ename": "TypeError",
     "evalue": "a_sample_class() takes no arguments",
     "output_type": "error",
     "traceback": [
      "\u001b[0;31m---------------------------------------------------------------------------\u001b[0m",
      "\u001b[0;31mTypeError\u001b[0m                                 Traceback (most recent call last)",
      "Cell \u001b[0;32mIn[17], line 10\u001b[0m\n\u001b[1;32m      7\u001b[0m         \u001b[38;5;28mself\u001b[39m\u001b[38;5;241m.\u001b[39msecond \u001b[38;5;241m=\u001b[39m two\n\u001b[1;32m      9\u001b[0m \u001b[38;5;66;03m# object is instance of class\u001b[39;00m\n\u001b[0;32m---> 10\u001b[0m obj \u001b[38;5;241m=\u001b[39m \u001b[43ma_sample_class\u001b[49m\u001b[43m(\u001b[49m\u001b[38;5;241;43m17\u001b[39;49m\u001b[43m,\u001b[49m\u001b[38;5;241;43m42\u001b[39;49m\u001b[43m)\u001b[49m\n\u001b[1;32m     12\u001b[0m \u001b[38;5;66;03m#instance attribute as property of object\u001b[39;00m\n\u001b[1;32m     13\u001b[0m \u001b[38;5;28mprint\u001b[39m(obj\u001b[38;5;241m.\u001b[39mfirst)\n",
      "\u001b[0;31mTypeError\u001b[0m: a_sample_class() takes no arguments"
     ]
    }
   ],
   "source": [
    "class a_sample_class:\n",
    "    class_attr = 5\n",
    "\n",
    "    def _init_(self, one, two):\n",
    "        # instance attribute\n",
    "        self.first = one\n",
    "        self.second = two\n",
    "\n",
    "# object is instance of class\n",
    "obj = a_sample_class(17,42)\n",
    "\n",
    "#instance attribute as property of object\n",
    "# \n",
    "\n",
    "\n",
    "priny(a_sample_class.class_attr)"
   ]
  },
  {
   "cell_type": "markdown",
   "id": "09275848-7d73-44e2-b48b-a89554bd3589",
   "metadata": {},
   "source": [
    "## Classes"
   ]
  },
  {
   "cell_type": "markdown",
   "id": "40bf3bf1-af4f-44ba-91eb-072b0d3b2c29",
   "metadata": {},
   "source": [
    "### Instances Attrivutes and Class Attributes\n",
    "2 scopes for attribtutes\n",
    "\n",
    "instance attrivute = variable that belongs to a specicific instance or instantiation. Defined inside the constructor (init). Can access from teh scope of an object (local)\n",
    "\n",
    "Class attribute = type of variable that belongs to the class itself. Defined outside the constructor. Similar to static attributes in Java (not exactly the same). Both a prooperty of a class AND a property of the object."
   ]
  },
  {
   "cell_type": "code",
   "execution_count": 18,
   "id": "c3a1fb26-2af4-42c7-9e1d-817ea1077a34",
   "metadata": {},
   "outputs": [
    {
     "name": "stdout",
     "output_type": "stream",
     "text": [
      "Help on a_sample_class in module __main__ object:\n",
      "\n",
      "class a_sample_class(builtins.object)\n",
      " |  a_sample_class(one, two)\n",
      " |\n",
      " |  Methods defined here:\n",
      " |\n",
      " |  __init__(self, one, two)\n",
      " |      #parameterized constructor\n",
      " |\n",
      " |  print_vars(self)\n",
      " |\n",
      " |  ----------------------------------------------------------------------\n",
      " |  Data descriptors defined here:\n",
      " |\n",
      " |  __dict__\n",
      " |      dictionary for instance variables\n",
      " |\n",
      " |  __weakref__\n",
      " |      list of weak references to the object\n",
      "\n"
     ]
    }
   ],
   "source": [
    "help(obj)"
   ]
  },
  {
   "cell_type": "code",
   "execution_count": 19,
   "id": "9f0e7e35-3e1f-460d-905e-49f05ca6fda9",
   "metadata": {},
   "outputs": [
    {
     "data": {
      "text/plain": [
       "{'__name__': '__main__',\n",
       " '__doc__': 'Automatically created module for IPython interactive environment',\n",
       " '__package__': None,\n",
       " '__loader__': None,\n",
       " '__spec__': None,\n",
       " '__builtin__': <module 'builtins' (built-in)>,\n",
       " '__builtins__': <module 'builtins' (built-in)>,\n",
       " '_ih': ['',\n",
       "  '##Constructors',\n",
       "  'def_init(self):\\n    self.var = 0\\n\\ndef print_vars(self):\\n    print(self.var)\\n\\nobj = a_sample_class()\\n\\nobj.print',\n",
       "  'def_init_(self):\\n    self.var = 0\\n\\ndef print_vars(self):\\n    print(self.var)\\n\\nobj = a_sample_class()\\n\\nobj.print',\n",
       "  'def__init__(self):\\n    self.var =0\\n\\ndef print_vars(self):\\n    print(self.var)\\n\\nobj = a_sample_class()\\n\\nobj.print',\n",
       "  'def __init__(self):\\n    self.var =0\\n\\ndef print_vars(self):\\n    print(self.var)\\n\\nobj = a_sample_class()\\n\\nobj.print',\n",
       "  'def __init__(self):\\n    self.var =0\\n\\ndef print_vars(self):\\n    print(self.var)\\n\\n    obj = a_sample_class()\\n\\nobj.print',\n",
       "  'def __init__(self):\\n    self.var =0\\n\\ndef print_vars(self):\\n    print(self.var)\\n\\n    obj = a_sample_class()\\n\\n    obj.print',\n",
       "  'def __init__(self):\\n    self.var =0\\n\\ndef print_vars(self):\\n    print(self.var)\\n\\n    obj = a_sample_class()\\n\\n    obj.print',\n",
       "  'class a_sample_class:\\n    #parameterized constructor\\n    def __init__(self, one, two)\\n        self.first = one\\n\\n#an instance method for printing\\ndef print_vars(self):\\n    print(self.first)\\n\\nobj = a_sample_class(2,2)',\n",
       "  'class a_sample_class:\\n    #parameterized constructor\\n    def __init__(self, one, two)\\n        self.first = one\\n\\n#an instance method for printing\\ndef print_vars(self):\\n    print(self.first)\\n\\nobj = a_sample_class(2,2)',\n",
       "  'class a_sample_class:\\n    #parameterized constructor\\n    def __init__(self, one, two):\\n        self.first = one\\n\\n#an instance method for printing\\ndef print_vars(self):\\n    print(self.first)\\n\\nobj = a_sample_class(2,2)',\n",
       "  'def __init__(self):\\n    self.var =0\\n\\ndef print_vars(self):\\n    print(self.var)\\n\\nobj = a_sample_class()\\nobj.print',\n",
       "  'class a_sample_class:\\n    #parameterized constructor\\n    def __init__(self, one, two):\\n        self.first = one\\n\\n#an instance method for printing\\ndef print_vars(self):\\n    print(self.first)\\n\\nobj = a_sample_class(2,8)\\nobj.print_vars()',\n",
       "  'class a_sample_class:\\n    #parameterized constructor\\n    def __init__(self, one, two):\\n        self.first = one\\n\\n#an instance method for printing\\n    def print_vars(self):\\n        print(self.first)\\n\\nobj = a_sample_class(2,8)\\nobj.print_vars()',\n",
       "  'def __init__(self):\\n    self.var =0\\n\\ndef print_vars(self):\\n    print(self.var)\\n\\nobj = a_sample_class()\\nobj.print',\n",
       "  'class a_sample_class:\\n    class_attr = 5\\n\\n    def _init_(self, one, two):\\n        # instance attribute\\n        self.first = one\\n        self.second = two\\n\\n# object is instance of class\\nobj = a_sample_class(17,42)\\n\\n#instance attribute as property of object\\nprint(obj.first)\\n\\nprint(obj.class_attr)\\n\\nprint(a_sample_class.first)',\n",
       "  'class a_sample_class:\\n    class_attr = 5\\n\\n    def _init_(self, one, two):\\n        # instance attribute\\n        self.first = one\\n        self.second = two\\n\\n# object is instance of class\\nobj = a_sample_class(17,42)\\n\\n#instance attribute as property of object\\nprint(obj.first)\\n\\nprint(obj.class_attr)\\n\\nprint(a_sample_class.first)\\n\\npriny(a_sample_class.class_attr)',\n",
       "  'help(obj)',\n",
       "  'globals()'],\n",
       " '_oh': {},\n",
       " '_dh': [PosixPath('/Users/aidabah/csci_1070_course/mymaterials/mycsclass')],\n",
       " 'In': ['',\n",
       "  '##Constructors',\n",
       "  'def_init(self):\\n    self.var = 0\\n\\ndef print_vars(self):\\n    print(self.var)\\n\\nobj = a_sample_class()\\n\\nobj.print',\n",
       "  'def_init_(self):\\n    self.var = 0\\n\\ndef print_vars(self):\\n    print(self.var)\\n\\nobj = a_sample_class()\\n\\nobj.print',\n",
       "  'def__init__(self):\\n    self.var =0\\n\\ndef print_vars(self):\\n    print(self.var)\\n\\nobj = a_sample_class()\\n\\nobj.print',\n",
       "  'def __init__(self):\\n    self.var =0\\n\\ndef print_vars(self):\\n    print(self.var)\\n\\nobj = a_sample_class()\\n\\nobj.print',\n",
       "  'def __init__(self):\\n    self.var =0\\n\\ndef print_vars(self):\\n    print(self.var)\\n\\n    obj = a_sample_class()\\n\\nobj.print',\n",
       "  'def __init__(self):\\n    self.var =0\\n\\ndef print_vars(self):\\n    print(self.var)\\n\\n    obj = a_sample_class()\\n\\n    obj.print',\n",
       "  'def __init__(self):\\n    self.var =0\\n\\ndef print_vars(self):\\n    print(self.var)\\n\\n    obj = a_sample_class()\\n\\n    obj.print',\n",
       "  'class a_sample_class:\\n    #parameterized constructor\\n    def __init__(self, one, two)\\n        self.first = one\\n\\n#an instance method for printing\\ndef print_vars(self):\\n    print(self.first)\\n\\nobj = a_sample_class(2,2)',\n",
       "  'class a_sample_class:\\n    #parameterized constructor\\n    def __init__(self, one, two)\\n        self.first = one\\n\\n#an instance method for printing\\ndef print_vars(self):\\n    print(self.first)\\n\\nobj = a_sample_class(2,2)',\n",
       "  'class a_sample_class:\\n    #parameterized constructor\\n    def __init__(self, one, two):\\n        self.first = one\\n\\n#an instance method for printing\\ndef print_vars(self):\\n    print(self.first)\\n\\nobj = a_sample_class(2,2)',\n",
       "  'def __init__(self):\\n    self.var =0\\n\\ndef print_vars(self):\\n    print(self.var)\\n\\nobj = a_sample_class()\\nobj.print',\n",
       "  'class a_sample_class:\\n    #parameterized constructor\\n    def __init__(self, one, two):\\n        self.first = one\\n\\n#an instance method for printing\\ndef print_vars(self):\\n    print(self.first)\\n\\nobj = a_sample_class(2,8)\\nobj.print_vars()',\n",
       "  'class a_sample_class:\\n    #parameterized constructor\\n    def __init__(self, one, two):\\n        self.first = one\\n\\n#an instance method for printing\\n    def print_vars(self):\\n        print(self.first)\\n\\nobj = a_sample_class(2,8)\\nobj.print_vars()',\n",
       "  'def __init__(self):\\n    self.var =0\\n\\ndef print_vars(self):\\n    print(self.var)\\n\\nobj = a_sample_class()\\nobj.print',\n",
       "  'class a_sample_class:\\n    class_attr = 5\\n\\n    def _init_(self, one, two):\\n        # instance attribute\\n        self.first = one\\n        self.second = two\\n\\n# object is instance of class\\nobj = a_sample_class(17,42)\\n\\n#instance attribute as property of object\\nprint(obj.first)\\n\\nprint(obj.class_attr)\\n\\nprint(a_sample_class.first)',\n",
       "  'class a_sample_class:\\n    class_attr = 5\\n\\n    def _init_(self, one, two):\\n        # instance attribute\\n        self.first = one\\n        self.second = two\\n\\n# object is instance of class\\nobj = a_sample_class(17,42)\\n\\n#instance attribute as property of object\\nprint(obj.first)\\n\\nprint(obj.class_attr)\\n\\nprint(a_sample_class.first)\\n\\npriny(a_sample_class.class_attr)',\n",
       "  'help(obj)',\n",
       "  'globals()'],\n",
       " 'Out': {},\n",
       " 'get_ipython': <bound method InteractiveShell.get_ipython of <ipykernel.zmqshell.ZMQInteractiveShell object at 0x10db14590>>,\n",
       " 'exit': <IPython.core.autocall.ZMQExitAutocall at 0x10db14fb0>,\n",
       " 'quit': <IPython.core.autocall.ZMQExitAutocall at 0x10db14fb0>,\n",
       " 'open': <function _io.open(file, mode='r', buffering=-1, encoding=None, errors=None, newline=None, closefd=True, opener=None)>,\n",
       " '_': '',\n",
       " '__': '',\n",
       " '___': '',\n",
       " '__session__': '/Users/aidabah/csci_1070_course/mymaterials/mycsclass/Untitled.ipynb',\n",
       " '_i': 'help(obj)',\n",
       " '_ii': 'class a_sample_class:\\n    class_attr = 5\\n\\n    def _init_(self, one, two):\\n        # instance attribute\\n        self.first = one\\n        self.second = two\\n\\n# object is instance of class\\nobj = a_sample_class(17,42)\\n\\n#instance attribute as property of object\\nprint(obj.first)\\n\\nprint(obj.class_attr)\\n\\nprint(a_sample_class.first)\\n\\npriny(a_sample_class.class_attr)',\n",
       " '_iii': 'class a_sample_class:\\n    class_attr = 5\\n\\n    def _init_(self, one, two):\\n        # instance attribute\\n        self.first = one\\n        self.second = two\\n\\n# object is instance of class\\nobj = a_sample_class(17,42)\\n\\n#instance attribute as property of object\\nprint(obj.first)\\n\\nprint(obj.class_attr)\\n\\nprint(a_sample_class.first)',\n",
       " '_i1': '##Constructors',\n",
       " '_i2': 'def_init(self):\\n    self.var = 0\\n\\ndef print_vars(self):\\n    print(self.var)\\n\\nobj = a_sample_class()\\n\\nobj.print',\n",
       " '_i3': 'def_init_(self):\\n    self.var = 0\\n\\ndef print_vars(self):\\n    print(self.var)\\n\\nobj = a_sample_class()\\n\\nobj.print',\n",
       " '_i4': 'def__init__(self):\\n    self.var =0\\n\\ndef print_vars(self):\\n    print(self.var)\\n\\nobj = a_sample_class()\\n\\nobj.print',\n",
       " '_i5': 'def __init__(self):\\n    self.var =0\\n\\ndef print_vars(self):\\n    print(self.var)\\n\\nobj = a_sample_class()\\n\\nobj.print',\n",
       " '__init__': <function __main__.__init__(self)>,\n",
       " 'print_vars': <function __main__.print_vars(self)>,\n",
       " '_i6': 'def __init__(self):\\n    self.var =0\\n\\ndef print_vars(self):\\n    print(self.var)\\n\\n    obj = a_sample_class()\\n\\nobj.print',\n",
       " '_i7': 'def __init__(self):\\n    self.var =0\\n\\ndef print_vars(self):\\n    print(self.var)\\n\\n    obj = a_sample_class()\\n\\n    obj.print',\n",
       " '_i8': 'def __init__(self):\\n    self.var =0\\n\\ndef print_vars(self):\\n    print(self.var)\\n\\n    obj = a_sample_class()\\n\\n    obj.print',\n",
       " '_i9': 'class a_sample_class:\\n    #parameterized constructor\\n    def __init__(self, one, two)\\n        self.first = one\\n\\n#an instance method for printing\\ndef print_vars(self):\\n    print(self.first)\\n\\nobj = a_sample_class(2,2)',\n",
       " '_i10': 'class a_sample_class:\\n    #parameterized constructor\\n    def __init__(self, one, two)\\n        self.first = one\\n\\n#an instance method for printing\\ndef print_vars(self):\\n    print(self.first)\\n\\nobj = a_sample_class(2,2)',\n",
       " '_i11': 'class a_sample_class:\\n    #parameterized constructor\\n    def __init__(self, one, two):\\n        self.first = one\\n\\n#an instance method for printing\\ndef print_vars(self):\\n    print(self.first)\\n\\nobj = a_sample_class(2,2)',\n",
       " 'a_sample_class': __main__.a_sample_class,\n",
       " 'obj': <__main__.a_sample_class at 0x10db6fe60>,\n",
       " '_i12': 'def __init__(self):\\n    self.var =0\\n\\ndef print_vars(self):\\n    print(self.var)\\n\\nobj = a_sample_class()\\nobj.print',\n",
       " '_i13': 'class a_sample_class:\\n    #parameterized constructor\\n    def __init__(self, one, two):\\n        self.first = one\\n\\n#an instance method for printing\\ndef print_vars(self):\\n    print(self.first)\\n\\nobj = a_sample_class(2,8)\\nobj.print_vars()',\n",
       " '_i14': 'class a_sample_class:\\n    #parameterized constructor\\n    def __init__(self, one, two):\\n        self.first = one\\n\\n#an instance method for printing\\n    def print_vars(self):\\n        print(self.first)\\n\\nobj = a_sample_class(2,8)\\nobj.print_vars()',\n",
       " '_i15': '    def __init__(self):\\n        self.var =0\\n\\n    def print_vars(self):\\n        print(self.var)\\n\\nobj = a_sample_class()\\nobj.print',\n",
       " '_i16': 'class a_sample_class:\\n    class_attr = 5\\n\\n    def _init_(self, one, two):\\n        # instance attribute\\n        self.first = one\\n        self.second = two\\n\\n# object is instance of class\\nobj = a_sample_class(17,42)\\n\\n#instance attribute as property of object\\nprint(obj.first)\\n\\nprint(obj.class_attr)\\n\\nprint(a_sample_class.first)',\n",
       " '_i17': 'class a_sample_class:\\n    class_attr = 5\\n\\n    def _init_(self, one, two):\\n        # instance attribute\\n        self.first = one\\n        self.second = two\\n\\n# object is instance of class\\nobj = a_sample_class(17,42)\\n\\n#instance attribute as property of object\\nprint(obj.first)\\n\\nprint(obj.class_attr)\\n\\nprint(a_sample_class.first)\\n\\npriny(a_sample_class.class_attr)',\n",
       " '_i18': 'help(obj)',\n",
       " '_i19': 'globals()'}"
      ]
     },
     "execution_count": 19,
     "metadata": {},
     "output_type": "execute_result"
    }
   ],
   "source": [
    "globals()"
   ]
  },
  {
   "cell_type": "code",
   "execution_count": null,
   "id": "536df506-357a-4322-aa15-2dabddea2058",
   "metadata": {},
   "outputs": [],
   "source": []
  }
 ],
 "metadata": {
  "kernelspec": {
   "display_name": "Python 3 (ipykernel)",
   "language": "python",
   "name": "python3"
  },
  "language_info": {
   "codemirror_mode": {
    "name": "ipython",
    "version": 3
   },
   "file_extension": ".py",
   "mimetype": "text/x-python",
   "name": "python",
   "nbconvert_exporter": "python",
   "pygments_lexer": "ipython3",
   "version": "3.12.1"
  }
 },
 "nbformat": 4,
 "nbformat_minor": 5
}
