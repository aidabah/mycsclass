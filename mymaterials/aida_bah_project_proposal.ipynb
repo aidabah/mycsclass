{
 "cells": [
  {
   "cell_type": "markdown",
   "metadata": {},
   "source": [
    "\n",
    "# Final Project Proposal CSCI-1070\n",
    "\n",
    "## Are you working alone or with someone else?\n",
    "    I will be working with Nora EL-Ruwie. We plan to spend every Tuesday and Thursday working on this project until it is due. We will set aisde a couple hours each time we meet to work on the project.\n",
    "\n",
    "## What dataset are you using?\n",
    "    The housing prices dataset on Kaggle. https://www.kaggle.com/datasets/yasserh/housing-prices-dataset\n",
    "\n",
    "## What is your starting hypothesis about the data?\n",
    "    Null hypothesis: For the Kaggle Housing Prices dataset there will be no significant difference in house sale prices based on various features like number of bedrooms, number of bathrooms, area, square footage, etc.\n",
    "    \n",
    "    Alternative Hypothesis: For the Kaggle Housing Prices dataset there will be a significant difference in house sale prices based on the various features like number of bedrooms, number of bathrooms, area, square footage, etc.\n",
    "\n",
    "## What models do you plan to start with first?\n",
    "    Linear regressions, and then sub types of linear regression like lasso regression and ridge regression. I will also be using decision trees for this project. And also to improve prediction accuracy and to reduce overfitting I'll use random forest.\n",
    "\n",
    " \n",
    "\n"
   ]
  }
 ],
 "metadata": {
  "kernelspec": {
   "display_name": "Python 3",
   "language": "python",
   "name": "python3"
  },
  "language_info": {
   "codemirror_mode": {
    "name": "ipython",
    "version": 3
   },
   "file_extension": ".py",
   "mimetype": "text/x-python",
   "name": "python",
   "nbconvert_exporter": "python",
   "pygments_lexer": "ipython3",
   "version": "3.10.11"
  }
 },
 "nbformat": 4,
 "nbformat_minor": 2
}
