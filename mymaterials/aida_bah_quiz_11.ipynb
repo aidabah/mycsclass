{
 "cells": [
  {
   "cell_type": "code",
   "execution_count": 14,
   "metadata": {},
   "outputs": [
    {
     "name": "stdout",
     "output_type": "stream",
     "text": [
      "['a', 'b']\n",
      "1\n",
      "2\n",
      "Fizz\n",
      "4\n",
      "Buzz\n",
      "Fizz\n",
      "7\n",
      "8\n",
      "Fizz\n",
      "Buzz\n",
      "11\n",
      "Fizz\n",
      "13\n",
      "14\n",
      "FizzBuzz\n",
      "16\n",
      "17\n",
      "Fizz\n",
      "19\n",
      "Buzz\n"
     ]
    }
   ],
   "source": [
    "from typing import List, Union\n",
    "\n",
    "def filter_non_numeric(input_list: List[Union[int, float, str]]) -> List[str]:\n",
    "    \"\"\"\n",
    "    Filtering out all numeric values in a list and returning the new list.\n",
    "\n",
    "    Args:\n",
    "        input_list (List[Union[int, float, str]]): The list containing different values.\n",
    "\n",
    "    Returns:\n",
    "        List[str]: The list containing only non-numeric values.\n",
    "    \"\"\"\n",
    "    non_numeric_values = [value for value in input_list if not isinstance(value, (int, float))]\n",
    "    return non_numeric_values\n",
    "\n",
    "def fizzbuzz(n: int = 100) -> None:\n",
    "    \"\"\"\n",
    "    Runs the FizzBuzz problem up to a given range of numbers.\n",
    "\n",
    "    Args:\n",
    "        n (int, optional): Number up to which FizzBuzz is ran. The default is 100.\n",
    "    \"\"\"\n",
    "    for i in range(1, n+1):\n",
    "        if i % 3 == 0 and i % 5 == 0:\n",
    "            print(\"FizzBuzz\")\n",
    "        elif i % 3 == 0:\n",
    "            print(\"Fizz\")\n",
    "        elif i % 5 == 0:\n",
    "            print(\"Buzz\")\n",
    "        else:\n",
    "            print(i)\n",
    "\n",
    "list = [1, 2, 'a', 'b', 7.6]\n",
    "filtered_list = filter_non_numeric(list)\n",
    "print(filtered_list)  # Output: ['a', 'b']\n",
    "\n",
    "fizzbuzz(20)\n",
    "\n"
   ]
  }
 ],
 "metadata": {
  "kernelspec": {
   "display_name": "Python 3",
   "language": "python",
   "name": "python3"
  },
  "language_info": {
   "codemirror_mode": {
    "name": "ipython",
    "version": 3
   },
   "file_extension": ".py",
   "mimetype": "text/x-python",
   "name": "python",
   "nbconvert_exporter": "python",
   "pygments_lexer": "ipython3",
   "version": "3.10.11"
  }
 },
 "nbformat": 4,
 "nbformat_minor": 2
}
