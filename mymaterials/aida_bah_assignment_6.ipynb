{
 "cells": [
  {
   "cell_type": "code",
   "execution_count": 8,
   "metadata": {},
   "outputs": [
    {
     "name": "stdout",
     "output_type": "stream",
     "text": [
      "c:\\Users\\AidaBah\\Desktop\\csci1070_course\\mycsclass\\mymaterials\n"
     ]
    }
   ],
   "source": [
    "import numpy as np\n",
    "import pandas as pd\n",
    "import matplotlib.pyplot as plt\n",
    "import seaborn as sns\n",
    "\n",
    "credit_df = pd.read_csv('Credit_card.csv')\n",
    "\n",
    "credit_df = credit_df.dropna() #should i drop all of em...or do it for specific columns..that seems tedious idk.\n",
    "credit_df.columns = credit_df.columns.str.strip().str.lower().str.replace(' ', '_')\n",
    "credit_df['gender'] = credit_df['gender'].map({'M':0, 'F':1}) #come back and make this a float girl, and come get the NaN values\n",
    "credit_df['car_owner'] = credit_df['car_owner'].map({'Y':0,'N':1})\n",
    "credit_df['propert_owner'] = credit_df['propert_owner']. map({'Y':0, 'N':1})\n",
    "\n",
    "# info = [\"type_income\", \"education\", \"marital_status\", \"housing_type\", \"type_occupation\"]\n",
    "\n",
    "# for i in range(len(info)):\n",
    "\n",
    "\n",
    "ohe_property= pd.get_dummies(credit_df['type_income']) \n",
    "ohe_edu= pd.get_dummies(credit_df['education'])\n",
    "ohe_marital = pd.get_dummies(credit_df['marital_status'])\n",
    "ohe_housing = pd.get_dummies(credit_df['housing_type'])\n",
    "ohe_occupation = pd.get_dummies(credit_df['type_occupation']) #must figure out how to get this all in one code....maybe a function?\n",
    "\n",
    "# Concatenate the DataFrames horizontally along columns\n",
    "credit_df_encoded = pd.concat([credit_df, ohe_property, ohe_edu, ohe_marital, ohe_housing, ohe_occupation], axis=1)\n",
    "\n",
    "# Drop the original categorical columns since you now have their one-hot encoded versions\n",
    "credit_df_encoded = credit_df_encoded.drop(['type_income', 'education', 'marital_status', 'housing_type', 'type_occupation'], axis=1)\n",
    "\n",
    "credit_df_encoded #maybe i should map it instead..."
   ]
  }
 ],
 "metadata": {
  "kernelspec": {
   "display_name": "Python 3",
   "language": "python",
   "name": "python3"
  },
  "language_info": {
   "codemirror_mode": {
    "name": "ipython",
    "version": 3
   },
   "file_extension": ".py",
   "mimetype": "text/x-python",
   "name": "python",
   "nbconvert_exporter": "python",
   "pygments_lexer": "ipython3",
   "version": "3.10.11"
  }
 },
 "nbformat": 4,
 "nbformat_minor": 2
}
