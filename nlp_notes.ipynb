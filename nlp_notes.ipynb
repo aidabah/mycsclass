{
 "cells": [
  {
   "cell_type": "markdown",
   "metadata": {},
   "source": [
    "### NLP Notes"
   ]
  },
  {
   "cell_type": "code",
   "execution_count": 30,
   "metadata": {},
   "outputs": [
    {
     "name": "stdout",
     "output_type": "stream",
     "text": [
      "['Hi', 'my', 'name', 'is', 'Aida', 'Bah', ',', 'or', 'Ms.', 'Bah', '.', 'I', 'am', 'a', 'Computer', 'Science', 'student', '.', 'I', 'like', 'biscuits']\n",
      "['Hi my name is Aida Bah, or Ms. Bah.', 'I am a Computer Science student.', 'I like biscuits']\n"
     ]
    },
    {
     "name": "stderr",
     "output_type": "stream",
     "text": [
      "[nltk_data] Downloading package gutenberg to\n",
      "[nltk_data]     C:\\Users\\AidaBah\\AppData\\Roaming\\nltk_data...\n",
      "[nltk_data]   Package gutenberg is already up-to-date!\n"
     ]
    }
   ],
   "source": [
    "import nltk\n",
    "import nltk.corpus\n",
    "from nltk.tokenize import word_tokenize, sent_tokenize\n",
    "from nltk.corpus import stopwords\n",
    "\n",
    "nltk.download('gutenberg')\n",
    "\n",
    "nltk.corpus.gutenberg.fileids()\n",
    "\n",
    "text = 'Hi my name is Aida Bah, or Ms. Bah. I am a Computer Science student. I like biscuits' \n",
    "# difference between 3 apostrophes vs 1\n",
    "\n",
    "print(word_tokenize(text))\n",
    "# punctuation is its own word except cases like 'Ms.' etc...\n",
    "print(sent_tokenize(text))\n",
    "# tokenizing groups - word tokenizers, sentence tokenizers\n",
    "# lexicon and corporas\n",
    "# corpora - body of text ex: medical journals\n",
    "# lexicon - words and their meanings \n",
    "# i.e investor speak vs regular english speak -- ambiguity and semantics\n",
    "\n"
   ]
  },
  {
   "cell_type": "markdown",
   "metadata": {},
   "source": [
    "#### Stop words"
   ]
  },
  {
   "cell_type": "code",
   "execution_count": 45,
   "metadata": {},
   "outputs": [
    {
     "name": "stdout",
     "output_type": "stream",
     "text": [
      "['The', 'big', 'fat', 'cat', 'went', 'beneath', 'tree', ',', 'tree', 'would', 'find', 'victim', '.']\n"
     ]
    },
    {
     "name": "stderr",
     "output_type": "stream",
     "text": [
      "[nltk_data] Downloading package stopwords to\n",
      "[nltk_data]     C:\\Users\\AidaBah\\AppData\\Roaming\\nltk_data...\n",
      "[nltk_data]   Package stopwords is already up-to-date!\n"
     ]
    }
   ],
   "source": [
    "nltk.download('stopwords')\n",
    "\n",
    "example = 'The big fat cat went beneath the tree, any tree it would find was its victim.'\n",
    "sw = set(nltk.corpus.stopwords.words('english'))\n",
    "\n",
    "words = word_tokenize(example)\n",
    "\n",
    "filtered_sentence = []\n",
    "\n",
    "# for w in words:\n",
    "#     if w not in sw:\n",
    "#         filtered_sentence.append(w)\n",
    "\n",
    "# print(filtered_sentence)\n",
    "\n",
    "filtered_sentence = [w for w in words if not w in sw]\n",
    "\n",
    "print(filtered_sentence)\n"
   ]
  },
  {
   "cell_type": "code",
   "execution_count": null,
   "metadata": {},
   "outputs": [],
   "source": []
  }
 ],
 "metadata": {
  "kernelspec": {
   "display_name": "Python 3",
   "language": "python",
   "name": "python3"
  },
  "language_info": {
   "codemirror_mode": {
    "name": "ipython",
    "version": 3
   },
   "file_extension": ".py",
   "mimetype": "text/x-python",
   "name": "python",
   "nbconvert_exporter": "python",
   "pygments_lexer": "ipython3",
   "version": "3.10.11"
  }
 },
 "nbformat": 4,
 "nbformat_minor": 2
}
